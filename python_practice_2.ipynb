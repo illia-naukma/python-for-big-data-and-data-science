{
 "cells": [
  {
   "cell_type": "markdown",
   "metadata": {
    "id": "p9wwt0LZzNvn"
   },
   "source": [
    "# I. Змінні та памʼять."
   ]
  },
  {
   "cell_type": "markdown",
   "metadata": {
    "id": "HTJrrm95xSV9"
   },
   "source": [
    "1. Створити змінні, що посилаються на два цілих числа, що однакові за значенням, де значення належить проміжку від -5 до 256. Перевірте, чи будуть ці змінні рівні тільки за значенням або ж ще будуть посилатися на один і той самий обʼєкт в памʼяті? Наведіть код та дайте текстову відповідь нижче."
   ]
  },
  {
   "cell_type": "code",
   "execution_count": 1,
   "metadata": {
    "ExecuteTime": {
     "end_time": "2024-02-08T07:22:28.163855Z",
     "start_time": "2024-02-08T07:22:28.150304Z"
    },
    "id": "TATni2vzayjG"
   },
   "outputs": [
    {
     "name": "stdout",
     "output_type": "stream",
     "text": [
      "True\n",
      "False\n"
     ]
    }
   ],
   "source": [
    "a = 27\n",
    "b = 27\n",
    "print(a is b)\n",
    "\n",
    "c = 358\n",
    "d = 358\n",
    "print(c is d)"
   ]
  },
  {
   "cell_type": "markdown",
   "metadata": {
    "id": "zfRG_o3WbRdg"
   },
   "source": [
    "Python кешує цілі числа в діапазоні від -5 до 256. \n",
    "Якщо дві змінні посилатимуться на число з цього діапазону, вони будуть посилатися на один і той самий об'єкт в пам'яті."
   ]
  },
  {
   "cell_type": "markdown",
   "metadata": {
    "id": "ISORzt6M3vAt"
   },
   "source": [
    "2. За допомогою якої функції можна перевірити належність змінної до вказаного типу даних (напр. чи змінна True посилається на значення булевого та цілочисленого типу)?"
   ]
  },
  {
   "cell_type": "code",
   "execution_count": 3,
   "metadata": {
    "ExecuteTime": {
     "end_time": "2024-02-08T07:29:41.220966Z",
     "start_time": "2024-02-08T07:29:41.199911Z"
    },
    "id": "9vL9CFaMbfyo"
   },
   "outputs": [
    {
     "name": "stdout",
     "output_type": "stream",
     "text": [
      "True\n",
      "<class 'int'>\n",
      "True\n",
      "<class 'bool'>\n"
     ]
    }
   ],
   "source": [
    "a = 12\n",
    "print(isinstance(a, int))\n",
    "print(type(a))\n",
    "\n",
    "b = True\n",
    "print(isinstance(b, bool))\n",
    "print(type(b))"
   ]
  },
  {
   "cell_type": "markdown",
   "metadata": {
    "collapsed": false
   },
   "source": [
    "# II. Цілі числа та числа з рухомою комою"
   ]
  },
  {
   "cell_type": "markdown",
   "metadata": {
    "id": "NLHkgd5Gybc8"
   },
   "source": [
    "3. Створити дві змінні, що посилаються на будь-які ціле число та число з рухомою комою та продемонструвати такі арифметичні операції: додавання, віднімання, ділення, множення, ділення без залишку, ділення по модулю, приведення до ступеню. Всі результати операцій вивести на екран."
   ]
  },
  {
   "cell_type": "code",
   "execution_count": 4,
   "metadata": {
    "ExecuteTime": {
     "end_time": "2024-02-08T07:50:53.231911Z",
     "start_time": "2024-02-08T07:50:53.226491Z"
    },
    "id": "nb8u_3pjb2cA"
   },
   "outputs": [
    {
     "name": "stdout",
     "output_type": "stream",
     "text": [
      "додавання:  15.7\n",
      "віднімання:  10.3\n",
      "ділення:  4.814814814814815\n",
      "множення:  35.1\n",
      "ділення без залишку:  4.0\n",
      "ділення по модулю:  2.1999999999999993\n",
      "приведення до степеня:  1017.7639206385571\n"
     ]
    }
   ],
   "source": [
    "integer_num = 13\n",
    "float_num = 2.7\n",
    "\n",
    "addition = integer_num + float_num\n",
    "print(\"додавання: \", addition)\n",
    "\n",
    "subtraction = integer_num - float_num\n",
    "print(\"віднімання: \", subtraction)\n",
    "\n",
    "division = integer_num / float_num\n",
    "print(\"ділення: \", division)\n",
    "\n",
    "multiplication = integer_num * float_num\n",
    "print(\"множення: \", multiplication)\n",
    "\n",
    "floor_division = integer_num // float_num\n",
    "print(\"ділення без залишку: \", floor_division)\n",
    "\n",
    "mod = integer_num % float_num\n",
    "print(\"ділення по модулю: \", mod)\n",
    "\n",
    "exponent = integer_num ** float_num\n",
    "print(\"приведення до степеня: \", exponent)\n",
    "\n"
   ]
  },
  {
   "cell_type": "markdown",
   "metadata": {
    "id": "1kBClKgPzZnC"
   },
   "source": [
    "4. Використовуючи змінні з вправи 3, продемонструйте механізм явного перетворення типів, де числа з рухомою комою перетворюються на цілі числа. Також визначте змінну, що посилається на значення булевого типу і спробуйте явно привести її до цілого числа."
   ]
  },
  {
   "cell_type": "code",
   "execution_count": 8,
   "metadata": {
    "ExecuteTime": {
     "end_time": "2024-02-08T07:57:05.048828Z",
     "start_time": "2024-02-08T07:57:05.031943Z"
    },
    "id": "TbqJbkeUcKsD"
   },
   "outputs": [
    {
     "name": "stdout",
     "output_type": "stream",
     "text": [
      "2 <class 'int'>\n",
      "True 1\n",
      "False 0\n"
     ]
    }
   ],
   "source": [
    "float_num = 2.7\n",
    "\n",
    "float_to_int = int(float_num)\n",
    "print(float_to_int, type(float_to_int))\n",
    "\n",
    "trueVar = True\n",
    "falseVar = False\n",
    "\n",
    "trueToInt = int(trueVar)\n",
    "falseToInt = int(falseVar)\n",
    "\n",
    "print(trueVar, trueToInt)\n",
    "print(falseVar, falseToInt)\n",
    "\n"
   ]
  },
  {
   "cell_type": "markdown",
   "metadata": {
    "id": "EVJ7AflwxrZi"
   },
   "source": [
    "# IІІ. Рядки (String)."
   ]
  },
  {
   "cell_type": "markdown",
   "metadata": {
    "id": "_s5ECzz9zE61"
   },
   "source": [
    "5. Створити пустий рядок двома різними способами."
   ]
  },
  {
   "cell_type": "code",
   "execution_count": null,
   "metadata": {
    "id": "fkZJHu9Scvc-"
   },
   "outputs": [],
   "source": [
    "s1 = ''\n",
    "s2 = \"\"\n",
    "s3 = str()"
   ]
  },
  {
   "cell_type": "markdown",
   "metadata": {
    "id": "4Bdn9J3MzLf_"
   },
   "source": [
    "6. Створити рядок з апострофом. Зробити його сирим. Вивести обидва рядка на екран."
   ]
  },
  {
   "cell_type": "code",
   "execution_count": 10,
   "metadata": {
    "ExecuteTime": {
     "end_time": "2024-02-08T08:04:38.454999Z",
     "start_time": "2024-02-08T08:04:38.439392Z"
    },
    "id": "ivji_hsmc0GH"
   },
   "outputs": [
    {
     "name": "stdout",
     "output_type": "stream",
     "text": [
      "I'm a string.\n",
      "I\\'m a string.\n"
     ]
    }
   ],
   "source": [
    "s = 'I\\'m a string.'\n",
    "raw_s = r'I\\'m a string.'\n",
    "\n",
    "print(s)\n",
    "print(raw_s)"
   ]
  },
  {
   "cell_type": "markdown",
   "metadata": {
    "id": "bg_d8wM4z8dS"
   },
   "source": [
    "7. Створити змінну, що буде посилатися на Ваше прізвище латинкою. Створити форматований рядок, який буде мати вигляд \"My surname is ______\", де на місці нижніх підкреслень буде Ваше прізвище зі змінної."
   ]
  },
  {
   "cell_type": "code",
   "execution_count": 13,
   "metadata": {
    "ExecuteTime": {
     "end_time": "2024-02-08T18:52:19.454631Z",
     "start_time": "2024-02-08T18:52:19.451639Z"
    },
    "id": "kuxFgpWndACq"
   },
   "outputs": [
    {
     "name": "stdout",
     "output_type": "stream",
     "text": [
      "My surname is Tsymbal\n"
     ]
    }
   ],
   "source": [
    "surname = 'Tsymbal'\n",
    "formatted = f\"My surname is {surname}\"\n",
    "\n",
    "print(formatted)"
   ]
  },
  {
   "cell_type": "markdown",
   "metadata": {
    "id": "1Nc6RqvQ0hxU"
   },
   "source": [
    "8. Маючи рядок \"My dog is crazy.\" перетворити його на список [\"my\", \"dog\", \"is\", \"crazy\"]"
   ]
  },
  {
   "cell_type": "code",
   "execution_count": 15,
   "metadata": {
    "ExecuteTime": {
     "end_time": "2024-02-08T18:53:14.361409Z",
     "start_time": "2024-02-08T18:53:14.359403Z"
    },
    "id": "w1Ya4RqedUhw"
   },
   "outputs": [
    {
     "name": "stdout",
     "output_type": "stream",
     "text": [
      "['my', 'dog', 'is', 'crazy']\n"
     ]
    }
   ],
   "source": [
    "s = 'My dog is crazy.'\n",
    "l = s.lower().rstrip('.').split()\n",
    "\n",
    "print(l)"
   ]
  },
  {
   "cell_type": "markdown",
   "metadata": {
    "id": "GYVqN9uP1D4n"
   },
   "source": [
    "# IV. Робота зі списками."
   ]
  },
  {
   "cell_type": "markdown",
   "metadata": {
    "id": "7-DeDunw2sO-"
   },
   "source": [
    "9. Створити список двома різними за синтаксисом способами. За допомогою вбудованої функції обчисліть довжину одного з них."
   ]
  },
  {
   "cell_type": "code",
   "execution_count": 17,
   "metadata": {
    "ExecuteTime": {
     "end_time": "2024-02-08T18:55:28.438385Z",
     "start_time": "2024-02-08T18:55:28.422269Z"
    },
    "id": "zxg06Uuxdyoh"
   },
   "outputs": [
    {
     "name": "stdout",
     "output_type": "stream",
     "text": [
      "[1, 2, 3, 4, 5]\n",
      "[1, 2, 3, 4, 5]\n",
      "5\n"
     ]
    }
   ],
   "source": [
    "l1 = [1, 2, 3, 4, 5]\n",
    "l2 = list(range(1, 6))\n",
    "\n",
    "print(l1)\n",
    "print(l2)\n",
    "print(len(l2))"
   ]
  },
  {
   "cell_type": "markdown",
   "metadata": {
    "id": "8vmGUTjL22gI"
   },
   "source": [
    "10. Створіть два списка та за допомогою спеціального методу додайте другий з них в якості останнього елемента першого."
   ]
  },
  {
   "cell_type": "code",
   "execution_count": 19,
   "metadata": {
    "ExecuteTime": {
     "end_time": "2024-02-08T18:57:21.315120Z",
     "start_time": "2024-02-08T18:57:21.297162Z"
    },
    "id": "uHtjWYw7d7hm"
   },
   "outputs": [
    {
     "name": "stdout",
     "output_type": "stream",
     "text": [
      "[1, 2, 3, 4, 5, 6]\n"
     ]
    }
   ],
   "source": [
    "l1 = [1, 2, 3]\n",
    "l2 = [4, 5, 6]\n",
    "\n",
    "l1.append(l2)\n",
    "\n",
    "print(l1)"
   ]
  },
  {
   "cell_type": "markdown",
   "metadata": {
    "id": "JC3BkD-67_--"
   },
   "source": [
    "11. Створіть список, де елементами цього списку також є списки. Отримай перший елемент з останнього рядка та виведи значення на екран."
   ]
  },
  {
   "cell_type": "code",
   "execution_count": 20,
   "metadata": {
    "ExecuteTime": {
     "end_time": "2024-02-08T18:59:28.910664Z",
     "start_time": "2024-02-08T18:59:28.907795Z"
    },
    "id": "Kz2jZHsGeLlz"
   },
   "outputs": [
    {
     "name": "stdout",
     "output_type": "stream",
     "text": [
      "7\n"
     ]
    }
   ],
   "source": [
    "l = [\n",
    "    [1, 2, 3],\n",
    "    [4, 5, 6],\n",
    "    [7, 8, 9]\n",
    "]\n",
    "\n",
    "last_ind = len(l)-1\n",
    "\n",
    "print(l[last_ind][0])"
   ]
  },
  {
   "cell_type": "markdown",
   "metadata": {
    "id": "JA47PKTv8zFK"
   },
   "source": [
    "12. Створіть список з десяти елементів різного типу. Отримайте всі елементи, окрім двох перших та двох останніх та збережіть їх в новій змінній."
   ]
  },
  {
   "cell_type": "code",
   "execution_count": 21,
   "metadata": {
    "ExecuteTime": {
     "end_time": "2024-02-08T19:02:11.422113Z",
     "start_time": "2024-02-08T19:02:11.405937Z"
    },
    "id": "_rHdUR-ueP4-"
   },
   "outputs": [
    {
     "name": "stdout",
     "output_type": "stream",
     "text": [
      "['foo', True, [2, 7], {'key': 'value'}, (1, 3), 'bar']\n"
     ]
    }
   ],
   "source": [
    "l = [1, 2.7, 'foo', True, [2, 7], {'foo': 'bar'}, (1, 3), 'bar', None, 10]\n",
    "\n",
    "new_l = l[2:-2]\n",
    "\n",
    "print(new_l)\n"
   ]
  },
  {
   "cell_type": "markdown",
   "metadata": {
    "id": "pCjR1dJb1Qbi"
   },
   "source": [
    "# V. Робота з кортежами."
   ]
  },
  {
   "cell_type": "markdown",
   "metadata": {
    "id": "fAZCxAX06R_k"
   },
   "source": [
    "14. Створити кортеж з один елементом."
   ]
  },
  {
   "cell_type": "code",
   "execution_count": null,
   "metadata": {
    "id": "H7d82WkQev3e"
   },
   "outputs": [],
   "source": [
    "t = (27,)\n"
   ]
  },
  {
   "cell_type": "markdown",
   "metadata": {
    "id": "8LCtYcmI6w1M"
   },
   "source": [
    "15. Порівняйте список та кортеж. Назвіть схожості та відмінності, випадки використання."
   ]
  },
  {
   "cell_type": "markdown",
   "metadata": {
    "id": "fUsN1Hnue0C6"
   },
   "source": [
    "Сіпльне:\n",
    "\n",
    "Зберігання об'єктів: Як список, так і кортеж можуть зберігати колекцію об'єктів.\n",
    "\n",
    "Індексація: Обидва типи даних дозволяють отримувати доступ до своїх елементів за допомогою індексів.\n",
    "\n",
    "Ітерація: Списки і кортежі можна ітерувати за допомогою циклу for.\n",
    "\n",
    "Спільні методи: Вони мають багато спільних методів, таких як len(), count(), index(), і т.д.\n",
    "\n",
    "\n",
    "Відмінне:\n",
    "\n",
    "Мутабельність: Список є змінним (mutable) типом даних, тобто його можна змінювати після створення,  додавати, видаляти або змінювати елементи. Кортеж незмінний (immutable) - після створення його не можна змінити.\n",
    "\n",
    "Синтаксис: Список створюється за допомогою квадратних дужок [], а кортеж - за допомогою круглих ().\n",
    "\n",
    "Швидкість: Зазвичай кортежі працюють швидше, оскільки вони є незмінними і, отже, можуть бути оптимізовані пайтоном для більш ефективного використання пам'яті та швидшої обробки.\n",
    "\n",
    "Списки використовуємо коли якось потрібно модифікувати колекцію - сортувати, фільтрувати, переставляти елементи, змінювати значення.\n",
    "Кортежі тоді, коли хочемо працювати із незмінним набором."
   ]
  },
  {
   "cell_type": "markdown",
   "metadata": {
    "id": "m0xrwFijAmDD"
   },
   "source": [
    "16. Створіть кортеж з 11ти елементів чисел з рухомою комою та отримайте кожен парний за індексом елемент в зворотньому порядку. Наприклад, маючи (1.2, 2.3, 3.3, 4.3, 5.3, 6.3, 7.3, 8.3, 9.3, 0.3), отримати (0.3, 8.3, 6.3, 4.3, 2.3). Результат збережіть в нову змінну та виведіть на екран."
   ]
  },
  {
   "cell_type": "code",
   "execution_count": 23,
   "metadata": {
    "ExecuteTime": {
     "end_time": "2024-02-08T19:38:12.136169Z",
     "start_time": "2024-02-08T19:38:12.118793Z"
    },
    "id": "p-5DAH6XfAGA"
   },
   "outputs": [
    {
     "name": "stdout",
     "output_type": "stream",
     "text": [
      "(101.4, 82.93, 2.99, 54.3, 7.3, 2.7)\n"
     ]
    }
   ],
   "source": [
    "nums = (2.7, 3.1, 7.3, 4.8, 54.3, 6.72, 2.99, 4.57, 82.93, 10.8, 101.4)\n",
    "even_indxs = nums[::-2]\n",
    "\n",
    "print(even_indxs)"
   ]
  },
  {
   "cell_type": "markdown",
   "metadata": {
    "id": "rW_I9dt3x6cW"
   },
   "source": [
    "# VI. Множини (Set)."
   ]
  },
  {
   "cell_type": "markdown",
   "metadata": {
    "id": "zNjRLHLw1Bgg"
   },
   "source": [
    "17. Створити множину без елементів. Після цого за допомогою методу додайте кілька різних елементів до множини. Чи множини є змінним типом даних?"
   ]
  },
  {
   "cell_type": "code",
   "execution_count": 24,
   "metadata": {
    "ExecuteTime": {
     "end_time": "2024-02-08T19:40:57.060443Z",
     "start_time": "2024-02-08T19:40:57.057751Z"
    },
    "id": "KOv7zc2Kfo4N"
   },
   "outputs": [
    {
     "name": "stdout",
     "output_type": "stream",
     "text": [
      "{2, 4, 7}\n"
     ]
    }
   ],
   "source": [
    "some_set = set()\n",
    "some_set.add(7)\n",
    "some_set.add(2)\n",
    "some_set.add(7)\n",
    "some_set.add(4)\n",
    "\n",
    "print(some_set)"
   ]
  },
  {
   "cell_type": "markdown",
   "metadata": {
    "id": "vxS6dVYiftZQ"
   },
   "source": [
    "Так, множини це mutable тип. Можна додавати та вилучати елементи з множини."
   ]
  },
  {
   "cell_type": "markdown",
   "metadata": {
    "id": "gHpT0Zw_1HEF"
   },
   "source": [
    "18. Створити множину, маючи список my_list = [1, 1, 2, 67, 67, 8, 9]. Пояснити, чому \"зникли\" деякі елементи."
   ]
  },
  {
   "cell_type": "code",
   "execution_count": null,
   "metadata": {
    "id": "qCN4uvJ_fxmu"
   },
   "outputs": [],
   "source": [
    "my_list = [1, 1, 2, 67, 67, 8, 9]\n",
    "my_set = set(my_list)\n",
    "print(my_set)"
   ]
  },
  {
   "cell_type": "markdown",
   "metadata": {
    "id": "tFNc1e20fyny"
   },
   "source": [
    "Множина це колекція унікальних значеннь, вона не може містити дублікатів. Тому числа списку що повторювались увійшли до складу множини лише раз."
   ]
  },
  {
   "cell_type": "markdown",
   "metadata": {
    "id": "SRMkGizS1UwY"
   },
   "source": [
    "19. Створіть дві множини. Продемонстуйте над ними операції: обʼєднання, різниці, пересічі та симетричної різниці. Використовуйте методи, що не змінюють множини, а створюють нові."
   ]
  },
  {
   "cell_type": "code",
   "execution_count": 27,
   "metadata": {
    "ExecuteTime": {
     "end_time": "2024-02-08T19:48:02.124099Z",
     "start_time": "2024-02-08T19:48:02.121810Z"
    },
    "id": "h0T-VuDnf3Ri"
   },
   "outputs": [
    {
     "name": "stdout",
     "output_type": "stream",
     "text": [
      "Об'єднання: {1, 2, 3, 4, 5, 6}\n",
      "Різниця: {1, 2} або {5, 6}\n",
      "Перетин: {3, 4}\n",
      "Симетрична різниця: {1, 2, 5, 6}\n"
     ]
    }
   ],
   "source": [
    "set1 = {1, 2, 3, 4}\n",
    "set2 = {3, 4, 5, 6}\n",
    "\n",
    "union_set = set1.union(set2)\n",
    "print(\"Об'єднання:\", union_set)\n",
    "\n",
    "diff_set = set1.difference(set2)\n",
    "diff_set_2 = set2.difference(set1)\n",
    "print(\"Різниця:\", diff_set, 'або', diff_set_2)\n",
    "\n",
    "intersection_set = set1.intersection(set2)\n",
    "print(\"Перетин:\", intersection_set)\n",
    "\n",
    "symmetric_diff_set = set1.symmetric_difference(set2)\n",
    "print(\"Симетрична різниця:\", symmetric_diff_set)\n"
   ]
  },
  {
   "cell_type": "markdown",
   "metadata": {
    "id": "kWc8gkzTx7Ea"
   },
   "source": [
    "# VII. Словники (Dictionary)."
   ]
  },
  {
   "cell_type": "markdown",
   "metadata": {
    "id": "i5FLwj-B2ybQ"
   },
   "source": [
    "20. Створіть пустий словник. До нього додайте чотири пари елементів такі, щоб їхні ключі були різних типів. Чи може список бути ключем? Чому?"
   ]
  },
  {
   "cell_type": "code",
   "execution_count": 28,
   "metadata": {
    "ExecuteTime": {
     "end_time": "2024-02-08T19:53:09.974142Z",
     "start_time": "2024-02-08T19:53:09.966381Z"
    },
    "id": "hxgv3BzrgLAV"
   },
   "outputs": [
    {
     "name": "stdout",
     "output_type": "stream",
     "text": [
      "{1: 'bar', 'key': 27, (1, 2): [1, 2, 3]}\n"
     ]
    }
   ],
   "source": [
    "d = {}\n",
    "\n",
    "# Додавання чотирьох пар елементів з ключами різних типів\n",
    "d[1] = \"foo\"\n",
    "d[\"key\"] = 27\n",
    "d[True] = \"bar\"\n",
    "d[(1, 2)] = [1,2,3]\n",
    "\n",
    "print(d)"
   ]
  },
  {
   "cell_type": "markdown",
   "metadata": {
    "id": "zwa7UVN-gR3m"
   },
   "source": [
    "Ключ словника має бути незмінного типу. Наприклад, можна використовувати ціле число, число з плаваючою точкою, рядок або булеве значення. Однак ні список, ні інший словник не можуть служити ключем словника, оскільки списки та словники є мутабельними."
   ]
  },
  {
   "cell_type": "markdown",
   "metadata": {
    "id": "WM_pMlJsgoNf"
   },
   "source": [
    "21. Створіть словник, де значенням в одній з пар теж буде словник, який теж має вкладений словник. Виведіть на екран значення, що міститься в словнику, що знаходиться на найнижчому рівні ієрархії вкладеності (найбільш внутрішній)."
   ]
  },
  {
   "cell_type": "code",
   "execution_count": 31,
   "metadata": {
    "ExecuteTime": {
     "end_time": "2024-02-08T19:57:25.470452Z",
     "start_time": "2024-02-08T19:57:25.454168Z"
    },
    "id": "60dlP7IHhAy4"
   },
   "outputs": [
    {
     "name": "stdout",
     "output_type": "stream",
     "text": [
      "bar\n"
     ]
    }
   ],
   "source": [
    "d = {\n",
    "    1: {\n",
    "        2: {\n",
    "            'foo': 'bar'\n",
    "        },\n",
    "        'some_key': 'some_value'\n",
    "    },\n",
    "    27: \"loreipsum\"\n",
    "}\n",
    "\n",
    "print(d[1][2]['foo'])"
   ]
  },
  {
   "cell_type": "markdown",
   "metadata": {
    "id": "xOZP0hkx6cCr"
   },
   "source": [
    "# Вітаю! Ви велика(ий) молодець, що впоралась(вся). Похваліть себе та побалуйте чимось приємним. Я Вами пишаюся."
   ]
  }
 ],
 "metadata": {
  "colab": {
   "provenance": []
  },
  "kernelspec": {
   "display_name": "Python 3 (ipykernel)",
   "language": "python",
   "name": "python3"
  },
  "language_info": {
   "codemirror_mode": {
    "name": "ipython",
    "version": 3
   },
   "file_extension": ".py",
   "mimetype": "text/x-python",
   "name": "python",
   "nbconvert_exporter": "python",
   "pygments_lexer": "ipython3",
   "version": "3.11.7"
  }
 },
 "nbformat": 4,
 "nbformat_minor": 4
}
