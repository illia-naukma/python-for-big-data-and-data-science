{
 "nbformat": 4,
 "nbformat_minor": 0,
 "metadata": {
  "colab": {
   "provenance": []
  },
  "kernelspec": {
   "name": "python3",
   "language": "python",
   "display_name": "Python 3 (ipykernel)"
  },
  "language_info": {
   "name": "python"
  }
 },
 "cells": [
  {
   "cell_type": "markdown",
   "source": [
    "# I. OOP"
   ],
   "metadata": {
    "id": "5qV_sehzFCTp"
   }
  },
  {
   "cell_type": "markdown",
   "source": [
    "1. (6б). Створіть клас Animal, додайте три атрибути, один з яких має значення за замовчуванням та два методи на свій розсуд."
   ],
   "metadata": {
    "id": "tx_U_hOALyfg"
   }
  },
  {
   "cell_type": "code",
   "source": [
    "class Animal:\n",
    "    def __init__(self, species, age, sound=\"Рик\"):\n",
    "        self.species = species\n",
    "        self.sound = sound\n",
    "        self.age = age\n",
    "    \n",
    "    def make_sound(self):\n",
    "        return f\"Звір виду {self.species} робить звук: {self.sound}\"\n",
    "    \n",
    "    def eat(self, food):\n",
    "        return f\"Звір виду {self.species} їсть {food}\"\n",
    "    \n",
    "\n",
    "animal1 = Animal(\"Пес\", 2, \"гав\")\n",
    "print(animal1.make_sound())\n",
    "print(animal1.eat('корм'))"
   ],
   "metadata": {
    "id": "-Vf895KaL88N",
    "ExecuteTime": {
     "end_time": "2024-03-04T20:04:03.913818Z",
     "start_time": "2024-03-04T20:04:03.906716Z"
    }
   },
   "execution_count": 2,
   "outputs": [
    {
     "name": "stdout",
     "output_type": "stream",
     "text": [
      "Звір виду Пес робить звук: гав\n",
      "Звір виду Пес їсть корм\n"
     ]
    }
   ]
  },
  {
   "cell_type": "markdown",
   "source": [
    "2. (2б). Створіть два обʼєкти цього класу, де один з обʼєктів створюється із дефолтним значенням атрибуту. На одному обʼєкті отримайте значення його атрибуту, а на іншому викличте один з його методів."
   ],
   "metadata": {
    "id": "X_UlOMB0L93w"
   }
  },
  {
   "cell_type": "code",
   "source": [
    "animal1 = Animal(\"Лев\", 17)\n",
    "animal2 = Animal(\"Пес\", 2, \"гав\")\n",
    "\n",
    "print(animal1.age)\n",
    "print(animal2.make_sound())\n",
    "\n"
   ],
   "metadata": {
    "id": "7gBu0ESOMCpG",
    "ExecuteTime": {
     "end_time": "2024-03-04T20:05:37.916682Z",
     "start_time": "2024-03-04T20:05:37.899063Z"
    }
   },
   "execution_count": 3,
   "outputs": [
    {
     "name": "stdout",
     "output_type": "stream",
     "text": [
      "17\n",
      "Звір виду Пес робить звук: гав\n"
     ]
    }
   ]
  },
  {
   "cell_type": "markdown",
   "source": [
    "3. (5б). Створіть клас, де атрибути мають різні рівні доступу. Спробуйте отримати їхні значення та опишіть результати."
   ],
   "metadata": {
    "id": "HoqSCZt1MHn5"
   }
  },
  {
   "cell_type": "code",
   "source": [
    "class MyClass:\n",
    "    def __init__(self):\n",
    "        self.public_attribute = \"Public Value\"\n",
    "        self._protected_attribute = \"Protected Value\"\n",
    "        self.__private_attribute = \"Private Value\"\n",
    "\n",
    "class MyClassExtended(MyClass):\n",
    "    def print_protected(self):\n",
    "        print(self._protected_attribute)\n",
    "\n",
    "my_class = MyClass()\n",
    "\n",
    "print(my_class.public_attribute)\n",
    "print(my_class._protected_attribute)\n",
    "print(my_class.__private_attribute)\n",
    "\n",
    "# до публічного поля можна доступитись\n",
    "# до протектед може доступитись нащадок\n",
    "# до протектед можна також звернутись напряму, проте патйон попередить ща так робити не варто\n",
    "# до приватного поля не можна доступитись зовні"
   ],
   "metadata": {
    "id": "r9b3vJxBMSPV",
    "ExecuteTime": {
     "end_time": "2024-03-04T20:08:12.679238Z",
     "start_time": "2024-03-04T20:08:12.582856Z"
    }
   },
   "execution_count": 4,
   "outputs": [
    {
     "name": "stdout",
     "output_type": "stream",
     "text": [
      "Public Value\n",
      "Protected Value\n"
     ]
    },
    {
     "ename": "AttributeError",
     "evalue": "'MyClass' object has no attribute '__private_attribute'",
     "output_type": "error",
     "traceback": [
      "\u001B[0;31m---------------------------------------------------------------------------\u001B[0m",
      "\u001B[0;31mAttributeError\u001B[0m                            Traceback (most recent call last)",
      "Cell \u001B[0;32mIn[4], line 11\u001B[0m\n\u001B[1;32m      9\u001B[0m \u001B[38;5;28mprint\u001B[39m(my_class\u001B[38;5;241m.\u001B[39mpublic_attribute)\n\u001B[1;32m     10\u001B[0m \u001B[38;5;28mprint\u001B[39m(my_class\u001B[38;5;241m.\u001B[39m_protected_attribute)\n\u001B[0;32m---> 11\u001B[0m \u001B[38;5;28mprint\u001B[39m(\u001B[43mmy_class\u001B[49m\u001B[38;5;241;43m.\u001B[39;49m\u001B[43m__private_attribute\u001B[49m)\n",
      "\u001B[0;31mAttributeError\u001B[0m: 'MyClass' object has no attribute '__private_attribute'"
     ]
    }
   ]
  },
  {
   "cell_type": "markdown",
   "source": [
    "4. (7б). Як ви розумієте термін self? Для чого використовується метод __init __?"
   ],
   "metadata": {
    "id": "5op2m2vgMSkZ"
   }
  },
  {
   "cell_type": "markdown",
   "source": [
    "Термін self в Python використовується для посилання на екземпляр класу всередині методів цього класу. \n",
    "\n",
    "Це є конвенцією в Python і означає поточний екземпляр класу.\n",
    "\n",
    "Метод ʼ__init__ʼ є конструктором класу в Python. Він викликається автоматично при створенні нового екземпляру класу і використовується для ініціалізації атрибутів об'єкта. \n",
    "\n",
    "В методі ʼ__init__ʼ ми встановлюємо початкові значення атрибутів для нового екземпляру класу, щоб задати його початковий стан."
   ],
   "metadata": {
    "id": "DyiPqNRvMasx"
   }
  },
  {
   "cell_type": "markdown",
   "source": [
    "5. (9б). Створіть клас Фігура без атрибутів, з методом get_area для отримання площі фігури, що повертає 0 та __add __, який приймає self та other в якості аргументів, а повертає суму площин фігур self та other."
   ],
   "metadata": {
    "id": "-6X8EGfjMd2y"
   }
  },
  {
   "cell_type": "code",
   "source": [
    "class Figure:\n",
    "    def get_area(self):\n",
    "        return 0\n",
    "\n",
    "    def __add__(self, other):\n",
    "        return self.get_area() + other.get_area()"
   ],
   "metadata": {
    "id": "4rvO_wYUMaEr",
    "ExecuteTime": {
     "end_time": "2024-03-04T20:24:10.693991Z",
     "start_time": "2024-03-04T20:24:10.685246Z"
    }
   },
   "execution_count": 6,
   "outputs": []
  },
  {
   "cell_type": "markdown",
   "source": [
    "6. (11б). Створіть 2 дочірніх класи від Фігури: Трикутник та Коло, які мають атрибути, необхідні для розрахунку площин. Визначте метод get_area в кожному з них так, щоби вони розраховували площу в залежності від формули для кожного типу фігури. Створіть обʼєкт класу Трикутник та обʼєкт класу Коло. Виконайте операцію суми за допомогою оператора + між ними."
   ],
   "metadata": {
    "id": "SFcKnnv5Mo_z"
   }
  },
  {
   "cell_type": "code",
   "source": [
    "import math\n",
    "\n",
    "class Triangle(Figure):\n",
    "    def __init__(self, a, b, c):\n",
    "        self.a = a\n",
    "        self.b = b\n",
    "        self.c = c\n",
    "\n",
    "    def get_area(self):\n",
    "        p = (self.a + self.b + self.c) / 2\n",
    "        area = math.sqrt(p * (p - self.a) * (p - self.b) * (p - self.c))\n",
    "\n",
    "        return area\n",
    "\n",
    "class Circle(Figure):\n",
    "    def __init__(self, radius):\n",
    "        self.radius = radius\n",
    "\n",
    "    def get_area(self):\n",
    "        return math.pi * (self.radius ** 2)\n",
    "    \n",
    "triangle = Triangle(6, 9, 7)\n",
    "circle = Circle(4)\n",
    "\n",
    "print(triangle.get_area())\n",
    "print(circle.get_area())\n",
    "area = triangle + circle\n",
    "print(area)\n"
   ],
   "metadata": {
    "id": "H3GVNr69Muf3",
    "ExecuteTime": {
     "end_time": "2024-03-04T20:24:13.851465Z",
     "start_time": "2024-03-04T20:24:13.827349Z"
    }
   },
   "execution_count": 7,
   "outputs": [
    {
     "name": "stdout",
     "output_type": "stream",
     "text": [
      "20.97617696340303\n",
      "50.26548245743669\n",
      "71.24165942083972\n"
     ]
    }
   ]
  },
  {
   "cell_type": "markdown",
   "source": [
    "7. (3б). Продемонструйте різницю між isinstance та issubclass."
   ],
   "metadata": {
    "id": "HCvR206YMvLK"
   }
  },
  {
   "cell_type": "code",
   "source": [
    "print(isinstance(triangle, Triangle))\n",
    "print(isinstance(circle, Circle))\n",
    "print(isinstance(triangle, Circle))\n",
    "print()\n",
    "print(issubclass(Circle, Figure))\n",
    "print(issubclass(Triangle, Figure))\n",
    "print(issubclass(Figure, Triangle))"
   ],
   "metadata": {
    "id": "L_V1bBvDM0GN",
    "ExecuteTime": {
     "end_time": "2024-03-04T20:27:47.874355Z",
     "start_time": "2024-03-04T20:27:47.871413Z"
    }
   },
   "execution_count": 11,
   "outputs": [
    {
     "name": "stdout",
     "output_type": "stream",
     "text": [
      "True\n",
      "True\n",
      "False\n",
      "\n",
      "True\n",
      "True\n",
      "False\n"
     ]
    }
   ]
  },
  {
   "cell_type": "markdown",
   "source": [
    "8. (13б). Створіть клас BankAccount з приватними атрибутами balance та account_number. Реалізуйте методи поповнення та зняття коштів, забезпечивши належну інкапсуляцію. Підказка: використовуйте декоратори property та setter."
   ],
   "metadata": {
    "id": "jjsaBZ-iM0Qq"
   }
  },
  {
   "cell_type": "code",
   "source": [
    "class BankAccount:\n",
    "    def __init__(self, initial_balance, account_number):\n",
    "        self._balance = initial_balance\n",
    "        self._account_number = account_number\n",
    "\n",
    "    @property\n",
    "    def balance(self):\n",
    "        return self._balance\n",
    "\n",
    "    @property\n",
    "    def account_number(self):\n",
    "        return self._account_number\n",
    "\n",
    "    def deposit(self, amount):\n",
    "        if amount > 0:\n",
    "            self._balance += amount\n",
    "            print(f\"Успішно додано ${amount}. Оновлений баланс: ${self._balance}\")\n",
    "        else:\n",
    "            print(\"Некоректне значення\")\n",
    "\n",
    "    def withdraw(self, amount):\n",
    "        if 0 < amount <= self._balance:\n",
    "            self._balance -= amount\n",
    "            print(f\"Успішно виведено ${amount}. Оновлений баланс: ${self._balance}\")\n",
    "        else:\n",
    "            print(\"Недостатньо коштів\")\n",
    "\n",
    "account = BankAccount(initial_balance=1000, account_number=\"123456789\")\n",
    "print(\"Поточний баланс:\", account.balance)\n",
    "print(\"Рахунок:\", account.account_number)\n",
    "\n",
    "account.deposit(500)\n",
    "account.withdraw(200)\n",
    "\n"
   ],
   "metadata": {
    "id": "xCvZ7lh8M7YA",
    "ExecuteTime": {
     "end_time": "2024-03-04T20:33:37.657673Z",
     "start_time": "2024-03-04T20:33:37.640698Z"
    }
   },
   "execution_count": 13,
   "outputs": [
    {
     "name": "stdout",
     "output_type": "stream",
     "text": [
      "Поточний баланс: 1000\n",
      "Рахунок: 123456789\n",
      "Успішно додано $500. Оновлений баланс: $1500\n",
      "Успішно виведено $200. Оновлений баланс: $1300\n"
     ]
    }
   ]
  },
  {
   "cell_type": "markdown",
   "source": [
    "9. (11б). Створіть клас Library, який містить список об'єктів типу Book. Реалізуйте методи для додавання книги, видалення книги та відображення списку книг."
   ],
   "metadata": {
    "id": "tIzL2SJTM8ft"
   }
  },
  {
   "cell_type": "code",
   "source": [],
   "metadata": {
    "id": "HWxfJKLtNAUZ"
   },
   "execution_count": null,
   "outputs": []
  },
  {
   "cell_type": "markdown",
   "source": [
    "10. (13б). Створіть клас Person з атрибутами name та age. Створіть ще один клас Employee з такими атрибутами, як department та salary. Створіть клас Manager, який успадковує обидва класи Person та Employee. Продемонструйте використання множинної спадковості, створивши обʼєкт класу Manager та отримавши mro для цього класу."
   ],
   "metadata": {
    "id": "lmV8pAwwNIqu"
   }
  },
  {
   "cell_type": "code",
   "source": [
    "class Book:\n",
    "    def __init__(self, title, author):\n",
    "        self.title = title\n",
    "        self.author = author\n",
    "\n",
    "class Library:\n",
    "    def __init__(self):\n",
    "        self.books = []\n",
    "\n",
    "    def add_book(self, book):\n",
    "        self.books.append(book)\n",
    "        print(f\"Книжку '{book.title}' автора {book.author} додано до бібліотеки.\")\n",
    "\n",
    "    def remove_book(self, title):\n",
    "        for book in self.books:\n",
    "            if book.title == title:\n",
    "                self.books.remove(book)\n",
    "                print(f\"Книгу '{title}' прибрано з бібліотеки.\")\n",
    "                return\n",
    "        print(f\"Книгу '{title}' не знайдено в бібліотеці.\")\n",
    "\n",
    "    def display_books(self):\n",
    "        if self.books:\n",
    "            print(\"Наявні книги:\")\n",
    "            for index, book in enumerate(self.books, start=1):\n",
    "                print(f\"{index}. '{book.title}' by {book.author}\")\n",
    "        else:\n",
    "            print(\"Поки немає книг.\")\n",
    "\n",
    "library = Library()\n",
    "\n",
    "book1 = Book(\"Clean code\", \"Robert Martin\")\n",
    "book2 = Book(\"Clean arch\", \"Robert Martin\")\n",
    "\n",
    "library.add_book(book1)\n",
    "library.add_book(book2)\n",
    "\n",
    "library.display_books()\n",
    "\n",
    "library.remove_book(\"The Great Gatsby\")\n",
    "library.remove_book(\"Clean code\")\n",
    "library.display_books()\n"
   ],
   "metadata": {
    "id": "R49grKlWNPeN",
    "ExecuteTime": {
     "end_time": "2024-03-04T20:37:18.806011Z",
     "start_time": "2024-03-04T20:37:18.788450Z"
    }
   },
   "execution_count": 14,
   "outputs": [
    {
     "name": "stdout",
     "output_type": "stream",
     "text": [
      "Книжку 'Clean code' автора Robert Martin додано до бібліотеки.\n",
      "Книжку 'Clean arch' автора Robert Martin додано до бібліотеки.\n",
      "Наявні книги:\n",
      "1. 'Clean code' by Robert Martin\n",
      "2. 'Clean arch' by Robert Martin\n",
      "Книгу 'The Great Gatsby' не знайдено в бібліотеці.\n",
      "Книгу 'Clean code' прибрано з бібліотеки.\n",
      "Наявні книги:\n",
      "1. 'Clean arch' by Robert Martin\n"
     ]
    }
   ]
  },
  {
   "cell_type": "markdown",
   "source": [
    "# II. Iterator"
   ],
   "metadata": {
    "id": "dIJyUiNBFG8G"
   }
  },
  {
   "cell_type": "markdown",
   "source": [
    "11. (4б). Визначте рядок(str) з 4ма різними за значенням символами. Створіть ітератор на основі цього рядка. Викличте 5 разів функцію next на ітераторі, 4ри перших з них огорніть у ф-цію print()."
   ],
   "metadata": {
    "id": "13vsm0NyKIzL"
   }
  },
  {
   "cell_type": "code",
   "source": [
    "s = \"abcd\"\n",
    "iterator = iter(s)\n",
    "\n",
    "print(next(iterator))\n",
    "print(next(iterator))\n",
    "print(next(iterator))\n",
    "print(next(iterator))\n",
    "next(iterator)\n"
   ],
   "metadata": {
    "id": "81ntabAkKuz-",
    "ExecuteTime": {
     "end_time": "2024-03-04T20:40:59.312253Z",
     "start_time": "2024-03-04T20:40:59.300031Z"
    }
   },
   "execution_count": 15,
   "outputs": [
    {
     "name": "stdout",
     "output_type": "stream",
     "text": [
      "a\n",
      "b\n",
      "c\n",
      "d\n"
     ]
    },
    {
     "ename": "StopIteration",
     "evalue": "",
     "output_type": "error",
     "traceback": [
      "\u001B[0;31m---------------------------------------------------------------------------\u001B[0m",
      "\u001B[0;31mStopIteration\u001B[0m                             Traceback (most recent call last)",
      "Cell \u001B[0;32mIn[15], line 8\u001B[0m\n\u001B[1;32m      6\u001B[0m \u001B[38;5;28mprint\u001B[39m(\u001B[38;5;28mnext\u001B[39m(iterator))\n\u001B[1;32m      7\u001B[0m \u001B[38;5;28mprint\u001B[39m(\u001B[38;5;28mnext\u001B[39m(iterator))\n\u001B[0;32m----> 8\u001B[0m \u001B[38;5;28;43mnext\u001B[39;49m\u001B[43m(\u001B[49m\u001B[43miterator\u001B[49m\u001B[43m)\u001B[49m\n",
      "\u001B[0;31mStopIteration\u001B[0m: "
     ]
    }
   ]
  },
  {
   "cell_type": "markdown",
   "source": [
    "А що якщо викликати цю ж функцію на рядку?"
   ],
   "metadata": {
    "id": "aekWHGXOLRsO"
   }
  },
  {
   "cell_type": "code",
   "source": [],
   "metadata": {
    "id": "mxATGsErLV1i"
   },
   "execution_count": null,
   "outputs": []
  },
  {
   "cell_type": "markdown",
   "source": [
    " 12. (5б). Опишіть своїми словами в одному реченні, як ви розумієте різницю між ітерабельними обʼєктами та ітераторами (можна на прикладі)."
   ],
   "metadata": {
    "id": "XwtMEopwJ4pH"
   }
  },
  {
   "cell_type": "markdown",
   "source": [
    "Ітерабельні об'єкти - це колекції даних, через які можна ітеруватися (перебирати), наприклад, списки або рядки, тоді як ітератори - це об'єкти, які відповідають за послідовне отримання елементів ітерабельного об'єкта, під час ітерації кожного разу повертаючи наступний елемент, як у прикладі вище, де ітератор використовується для послідовного отримання кожного символу з рядка."
   ],
   "metadata": {
    "id": "-sHrODc3KFn8"
   }
  },
  {
   "cell_type": "markdown",
   "source": [
    "13. (11б). Створіть клас, що має визначений Iterator Protocol та при кожному виклику next повертає літери англійської абетки, поки вони не вичерпаються."
   ],
   "metadata": {
    "id": "E9qJWmNbK8Gl"
   }
  },
  {
   "cell_type": "code",
   "source": [
    "class AlphabetIterator:\n",
    "    def __init__(self):\n",
    "        self.current_letter = ord('a')\n",
    "\n",
    "    def __iter__(self):\n",
    "        return self\n",
    "\n",
    "    def __next__(self):\n",
    "        if self.current_letter <= ord('z'):\n",
    "            letter = chr(self.current_letter)\n",
    "            self.current_letter += 1\n",
    "            return letter\n",
    "        else:\n",
    "            raise StopIteration\n",
    "\n",
    "alphabet_iter = AlphabetIterator()\n",
    "\n",
    "for _ in range(26):\n",
    "    print(next(alphabet_iter))\n",
    "\n",
    "next(alphabet_iter)\n"
   ],
   "metadata": {
    "id": "cqx-g_RsLo6I",
    "ExecuteTime": {
     "end_time": "2024-03-04T20:58:06.083264Z",
     "start_time": "2024-03-04T20:58:06.073606Z"
    }
   },
   "execution_count": 17,
   "outputs": [
    {
     "name": "stdout",
     "output_type": "stream",
     "text": [
      "a\n",
      "b\n",
      "c\n",
      "d\n",
      "e\n",
      "f\n",
      "g\n",
      "h\n",
      "i\n",
      "j\n",
      "k\n",
      "l\n",
      "m\n",
      "n\n",
      "o\n",
      "p\n",
      "q\n",
      "r\n",
      "s\n",
      "t\n",
      "u\n",
      "v\n",
      "w\n",
      "x\n",
      "y\n",
      "z\n"
     ]
    },
    {
     "ename": "StopIteration",
     "evalue": "",
     "output_type": "error",
     "traceback": [
      "\u001B[0;31m---------------------------------------------------------------------------\u001B[0m",
      "\u001B[0;31mStopIteration\u001B[0m                             Traceback (most recent call last)",
      "Cell \u001B[0;32mIn[17], line 21\u001B[0m\n\u001B[1;32m     18\u001B[0m \u001B[38;5;28;01mfor\u001B[39;00m _ \u001B[38;5;129;01min\u001B[39;00m \u001B[38;5;28mrange\u001B[39m(\u001B[38;5;241m26\u001B[39m):\n\u001B[1;32m     19\u001B[0m     \u001B[38;5;28mprint\u001B[39m(\u001B[38;5;28mnext\u001B[39m(alphabet_iter))\n\u001B[0;32m---> 21\u001B[0m \u001B[38;5;28;43mnext\u001B[39;49m\u001B[43m(\u001B[49m\u001B[43malphabet_iter\u001B[49m\u001B[43m)\u001B[49m\n",
      "Cell \u001B[0;32mIn[17], line 14\u001B[0m, in \u001B[0;36mAlphabetIterator.__next__\u001B[0;34m(self)\u001B[0m\n\u001B[1;32m     12\u001B[0m     \u001B[38;5;28;01mreturn\u001B[39;00m letter\n\u001B[1;32m     13\u001B[0m \u001B[38;5;28;01melse\u001B[39;00m:\n\u001B[0;32m---> 14\u001B[0m     \u001B[38;5;28;01mraise\u001B[39;00m \u001B[38;5;167;01mStopIteration\u001B[39;00m\n",
      "\u001B[0;31mStopIteration\u001B[0m: "
     ]
    }
   ]
  },
  {
   "cell_type": "markdown",
   "source": [
    "# Вітаю! Ви велика(ий) молодець, що впоралась(вся). Похваліть себе та побалуйте чимось приємним. Я Вами пишаюся."
   ],
   "metadata": {
    "id": "Z3E3S_s1Fv7-"
   }
  }
 ]
}
